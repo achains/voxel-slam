{
 "cells": [
  {
   "cell_type": "code",
   "execution_count": 1,
   "metadata": {},
   "outputs": [
    {
     "name": "stdout",
     "output_type": "stream",
     "text": [
      "Jupyter environment detected. Enabling Open3D WebVisualizer.\n",
      "[Open3D INFO] WebRTC GUI backend enabled.\n",
      "[Open3D INFO] WebRTCWindowSystem: HTTP handshake server disabled.\n"
     ]
    }
   ],
   "source": [
    "import voxel_slam"
   ]
  },
  {
   "cell_type": "code",
   "execution_count": 2,
   "metadata": {},
   "outputs": [],
   "source": [
    "import numpy as np\n",
    "import mrob \n",
    "import open3d as o3d \n",
    "\n",
    "import pathlib\n",
    "import copy\n",
    "import os "
   ]
  },
  {
   "cell_type": "markdown",
   "metadata": {},
   "source": [
    "### I/O "
   ]
  },
  {
   "cell_type": "code",
   "execution_count": 3,
   "metadata": {},
   "outputs": [],
   "source": [
    "def read_depth_to_rgb_map(association_path):\n",
    "    depth_to_rgb_map = dict()\n",
    "    with open(association_path) as data:\n",
    "        for line in data:\n",
    "            _, color_name, _, depth_name = line.split()\n",
    "            color_name = color_name.strip('\\n').lstrip(\"color/\")\n",
    "            depth_name = depth_name.strip('\\n').lstrip(\"depth/\")\n",
    "            depth_to_rgb_map[depth_name] = color_name\n",
    "    return depth_to_rgb_map\n",
    "\n",
    "def parse_trajectories(input_path):\n",
    "    ts = dict()\n",
    "    with open(input_path) as data:\n",
    "        for line in data:\n",
    "            line_tokens = line.strip('\\n').split()\n",
    "            \n",
    "            timestamp = line_tokens[0].replace('.', '')\n",
    "            timestamp = \"0\" * (12 - len(timestamp)) + timestamp\n",
    "            \n",
    "            trajectory = np.asarray(list(map(float, line_tokens[1:])))\n",
    "            ts.update({timestamp: trajectory})\n",
    "    return ts\n",
    "\n",
    "\n",
    "def filename_to_pose(depth_filename: str, depth_to_rgb_map: str, poses: dict):\n",
    "    rgb_filename = depth_to_rgb_map[depth_filename].rstrip(\".png\")\n",
    "    return poses[\"0\" * (12 - len(rgb_filename)) + rgb_filename]\n",
    "\n",
    "\n",
    "def trajectory_to_se3(trajectory):\n",
    "    t, Q = trajectory[:3], trajectory[3:]\n",
    "    R = mrob.geometry.SO3(mrob.geometry.quat_to_so3(Q))\n",
    "    return mrob.geometry.SE3(R, t)\n",
    "\n",
    "def parse_trajectories_float(input_path, ts_multiplier=1e9):\n",
    "    ts = dict()\n",
    "    with open(input_path) as data:\n",
    "        for line in data:\n",
    "            if line.startswith('#'):\n",
    "                continue\n",
    "            line_tokens = line.strip('\\n').split()\n",
    "            \n",
    "            timestamp = float(line_tokens[0]) * ts_multiplier\n",
    "            \n",
    "            trajectory = np.asarray(list(map(float, line_tokens[1:])))\n",
    "            ts.update({timestamp: trajectory})\n",
    "    return ts"
   ]
  },
  {
   "cell_type": "code",
   "execution_count": 4,
   "metadata": {},
   "outputs": [],
   "source": [
    "def read_hilti_sequence(ts_to_quat, ts_to_depth_path, start_of_sequence=0, number_of_clouds=-1, center_distance_threshold=1.5):\n",
    "    poses = []\n",
    "    clouds = []\n",
    "\n",
    "    lidar_so3 = mrob.geometry.SO3(mrob.geometry.quat_to_so3(np.asarray([ 0.7071068, -0.7071068, 0, 0 ])))\n",
    "    lidar_t = np.asarray([ -0.001, -0.00855, 0.055 ])   \n",
    "    imu_to_lidar_se3 = mrob.geometry.SE3(lidar_so3, lidar_t).T()\n",
    "\n",
    "    for ts in sorted(ts_to_quat)[start_of_sequence : start_of_sequence + number_of_clouds]:\n",
    "        imu_pose = trajectory_to_se3(ts_to_quat[ts]).T()\n",
    "\n",
    "        pose = imu_pose @ imu_to_lidar_se3\n",
    "        cloud = o3d.io.read_point_cloud(str(ts_to_depth_path[ts]))\n",
    "        cloud_points = np.asarray(cloud.points)\n",
    "        f = np.where(np.linalg.norm(cloud_points, axis=1) > center_distance_threshold)[0] \n",
    "\n",
    "        cloud.points = o3d.utility.Vector3dVector(cloud_points[f])\n",
    "\n",
    "        cloud.paint_uniform_color([0.0, 0.0, 0.0])\n",
    "        \n",
    "        poses.append(pose)\n",
    "        clouds.append(cloud)\n",
    "\n",
    "    return clouds, poses"
   ]
  },
  {
   "cell_type": "code",
   "execution_count": 5,
   "metadata": {},
   "outputs": [],
   "source": [
    "def read_vector_sequence(ts_to_quat, ts_to_pcd_path, start_of_sequence=0, number_of_clouds=-1, enable_down_sampling=True):\n",
    "    poses = []\n",
    "    clouds = [] \n",
    "\n",
    "    for ts in sorted(ts_to_quat)[start_of_sequence : start_of_sequence + number_of_clouds]:\n",
    "        pose = trajectory_to_se3(ts_to_quat[ts]).T()\n",
    "        \n",
    "        # pcd_name = f\"{ts}.pcd\"\n",
    "        pcd = o3d.io.read_point_cloud(str(ts_to_pcd_path[ts]), remove_infinite_points=True)\n",
    "        pcd.paint_uniform_color([0.0, 0.0, 0.0])\n",
    "\n",
    "        clouds.append(pcd.uniform_down_sample(2) if enable_down_sampling else pcd)\n",
    "        poses.append(pose)\n",
    "\n",
    "    return clouds, poses "
   ]
  },
  {
   "cell_type": "code",
   "execution_count": 9,
   "metadata": {},
   "outputs": [
    {
     "data": {
      "text/plain": [
       "True"
      ]
     },
     "execution_count": 9,
     "metadata": {},
     "output_type": "execute_result"
    }
   ],
   "source": [
    "pcd = o3d.io.read_point_cloud(\"/home/ach/Desktop/datasets/hilti/out2/1649764528.063481000.pcd\")\n",
    "\n",
    "o3d.io.write_point_cloud(\"pcd_ascii.pcd\", pcd,  write_ascii=True)"
   ]
  },
  {
   "cell_type": "markdown",
   "metadata": {},
   "source": [
    "## Clustering optimization"
   ]
  },
  {
   "cell_type": "code",
   "execution_count": 21,
   "metadata": {},
   "outputs": [],
   "source": [
    "def get_optimized_poses(clouds_cp, \n",
    "                        poses_cp, \n",
    "                        voxel_size=2, \n",
    "                        ransac_distance_threshold=0.005, \n",
    "                        filter_function=lambda points: True,\n",
    "                        enable_filter_voxels=True,\n",
    "                        filter_cosine_distance_threshold=0.2, \n",
    "                        filter_preserve_non_informative_voxels=False):\n",
    "    clouds = copy.deepcopy(clouds_cp)\n",
    "    poses = copy.deepcopy(poses_cp)\n",
    "\n",
    "    voxel_map = voxel_slam.frontend.VoxelFeatureMap(clouds, poses, voxel_size=voxel_size)\n",
    "    voxel_feature_map = voxel_map.extract_voxel_features(\n",
    "        ransac_distance_threshold=ransac_distance_threshold, \n",
    "        points_filter_function=filter_function\n",
    "    )\n",
    "    if enable_filter_voxels:\n",
    "        voxel_map.filter_voxel_features(voxel_feature_map, \n",
    "                                        cosine_distance_threshold=filter_cosine_distance_threshold,\n",
    "                                        preserve_non_informative_voxels=filter_preserve_non_informative_voxels)\n",
    "    \n",
    "    graph = voxel_slam.backend.FGraph(voxel_feature_map, number_of_poses=len(poses))\n",
    "    optimized_poses = graph.get_optimized_poses()\n",
    "    colored_pcd, color_to_voxel_id = voxel_map.get_colored_feature_clouds(voxel_feature_map, color_method=\"voxel\")\n",
    "    \n",
    "    return colored_pcd, optimized_poses"
   ]
  },
  {
   "cell_type": "code",
   "execution_count": 22,
   "metadata": {},
   "outputs": [],
   "source": [
    "clouds_path = \"/home/ach/Desktop/datasets/vector_corridor/corridors_walk1.synced.lidar\"\n",
    "poses_path = \"/home/ach/Desktop/datasets/vector_corridor/corridors_walk1.synced.gt.txt\""
   ]
  },
  {
   "cell_type": "code",
   "execution_count": 23,
   "metadata": {},
   "outputs": [],
   "source": [
    "ts_multiplier = 1 / 1e9\n",
    "ts_to_pcd_path = {float(x.stem) * ts_multiplier : x for x in pathlib.Path(clouds_path).iterdir()}\n",
    "ts_to_quat = parse_trajectories_float(poses_path, ts_multiplier)"
   ]
  },
  {
   "cell_type": "code",
   "execution_count": 24,
   "metadata": {},
   "outputs": [],
   "source": [
    "clouds, poses = read_vector_sequence(ts_to_quat, ts_to_pcd_path, start_of_sequence=80, number_of_clouds=100)"
   ]
  },
  {
   "cell_type": "code",
   "execution_count": 25,
   "metadata": {},
   "outputs": [],
   "source": [
    "voxel_map = voxel_slam.VoxelFeatureMap(clouds, poses, voxel_size=2)"
   ]
  },
  {
   "cell_type": "code",
   "execution_count": 26,
   "metadata": {},
   "outputs": [],
   "source": [
    "voxel_feature_map = voxel_map.extract_voxel_features(ransac_distance_threshold=0.01)"
   ]
  },
  {
   "cell_type": "code",
   "execution_count": 27,
   "metadata": {},
   "outputs": [],
   "source": [
    "voxel_map.filter_voxel_features(voxel_feature_map)"
   ]
  },
  {
   "cell_type": "code",
   "execution_count": 28,
   "metadata": {},
   "outputs": [
    {
     "name": "stdout",
     "output_type": "stream",
     "text": [
      "Time (init): 0.013162624\n"
     ]
    }
   ],
   "source": [
    "colored_clouds, _ = voxel_map.get_colored_feature_clouds(voxel_feature_map, color_method=\"voxel\")"
   ]
  },
  {
   "cell_type": "code",
   "execution_count": 29,
   "metadata": {},
   "outputs": [
    {
     "name": "stdout",
     "output_type": "stream",
     "text": [
      "FGraph initial error: 41.17875305817232\n",
      "Chi2: 37.963707321639745\n"
     ]
    }
   ],
   "source": [
    "optimized_poses = voxel_slam.FGraph(voxel_feature_map, len(poses)).get_optimized_poses()"
   ]
  },
  {
   "cell_type": "code",
   "execution_count": 30,
   "metadata": {},
   "outputs": [],
   "source": [
    "o3d.visualization.draw_geometries([voxel_slam.aggregate_map(colored_clouds, optimized_poses)])"
   ]
  },
  {
   "cell_type": "markdown",
   "metadata": {},
   "source": [
    "#### Visualize clouds with GT poses"
   ]
  },
  {
   "cell_type": "code",
   "execution_count": 31,
   "metadata": {},
   "outputs": [],
   "source": [
    "o3d.visualization.draw_geometries([voxel_slam.aggregate_map(clouds, poses, enable_color=True)])"
   ]
  },
  {
   "cell_type": "code",
   "execution_count": 55,
   "metadata": {},
   "outputs": [],
   "source": [
    "class OptimizationConfig:\n",
    "    def __init__(self) -> None:  \n",
    "        self.window_size = 5\n",
    "        self.voxel_size = 2\n",
    "        self.ransac_distance_threshold = 0.005\n",
    "        self.filter_function = lambda points: True\n",
    "        self.enable_filter_voxels = True\n",
    "        self.filter_cosine_distance_threshold = 0.2\n",
    "        self.filter_preserve_non_informative_voxels = False"
   ]
  },
  {
   "cell_type": "markdown",
   "metadata": {},
   "source": [
    "### Clustering optimization"
   ]
  },
  {
   "cell_type": "code",
   "execution_count": 56,
   "metadata": {},
   "outputs": [],
   "source": [
    "def clustering_optimization(clouds, poses, submaps_config: OptimizationConfig, aggregated_map_config: OptimizationConfig):\n",
    "    optimized_submaps = {}\n",
    "\n",
    "    transformed_clouds = voxel_slam.VoxelFeatureMap(clouds, poses, voxel_size=submaps_config.voxel_size).transformed_clouds\n",
    " \n",
    "    print(\"== Submaps ==\")\n",
    "    for i in range(0, len(clouds), submaps_config.window_size):\n",
    "        optimized_submaps[i] = get_optimized_poses(\n",
    "            clouds_cp=transformed_clouds[i:i+submaps_config.window_size],\n",
    "            poses_cp=[np.eye(4) for _ in range(submaps_config.window_size)],\n",
    "            voxel_size=submaps_config.voxel_size,\n",
    "            ransac_distance_threshold=submaps_config.ransac_distance_threshold,\n",
    "            filter_function=submaps_config.filter_function,\n",
    "            enable_filter_voxels=submaps_config.enable_filter_voxels,\n",
    "            filter_cosine_distance_threshold=submaps_config.filter_cosine_distance_threshold, \n",
    "            filter_preserve_non_informative_voxels=submaps_config.filter_preserve_non_informative_voxels\n",
    "        )\n",
    "\n",
    "    \n",
    "    aggregated_submaps = {k: voxel_slam.aggregate_map(pcd, pose) for k, (pcd, pose) in optimized_submaps.items()}\n",
    "    for pcd in aggregated_submaps.values():\n",
    "        pcd.paint_uniform_color([0.0, 0.0, 0.0])\n",
    "\n",
    "    o3d.visualization.draw_geometries(list(aggregated_submaps.values()))\n",
    "\n",
    "    print(\"== Aggregated map ==\")\n",
    "    ahc_clouds, ahc_poses = get_optimized_poses(\n",
    "        list(aggregated_submaps.values()), \n",
    "        [np.eye(4) for _ in range(len(aggregated_submaps))],\n",
    "        voxel_size=aggregated_map_config.voxel_size,\n",
    "        ransac_distance_threshold=aggregated_map_config.ransac_distance_threshold,\n",
    "        filter_function=aggregated_map_config.filter_function,\n",
    "        enable_filter_voxels=aggregated_map_config.enable_filter_voxels,\n",
    "        filter_cosine_distance_threshold=aggregated_map_config.filter_cosine_distance_threshold,\n",
    "        filter_preserve_non_informative_voxels=aggregated_map_config.filter_preserve_non_informative_voxels\n",
    "    )\n",
    "\n",
    "    return ahc_clouds, ahc_poses"
   ]
  },
  {
   "cell_type": "code",
   "execution_count": 57,
   "metadata": {},
   "outputs": [],
   "source": [
    "submaps_config = OptimizationConfig()\n",
    "aggregated_config = OptimizationConfig()"
   ]
  },
  {
   "cell_type": "code",
   "execution_count": 58,
   "metadata": {},
   "outputs": [],
   "source": [
    "submaps_config.enable_filter_voxels = False "
   ]
  },
  {
   "cell_type": "code",
   "execution_count": null,
   "metadata": {},
   "outputs": [],
   "source": [
    "aggregated_clouds, aggregated_poses = clustering_optimization(clouds, poses, submaps_config, aggregated_config)"
   ]
  },
  {
   "cell_type": "code",
   "execution_count": 55,
   "metadata": {},
   "outputs": [],
   "source": [
    "o3d.visualization.draw_geometries([voxel_slam.aggregate_map(aggregated_clouds, aggregated_poses)])"
   ]
  },
  {
   "cell_type": "code",
   "execution_count": null,
   "metadata": {},
   "outputs": [],
   "source": []
  }
 ],
 "metadata": {
  "kernelspec": {
   "display_name": "venv",
   "language": "python",
   "name": "python3"
  },
  "language_info": {
   "codemirror_mode": {
    "name": "ipython",
    "version": 3
   },
   "file_extension": ".py",
   "mimetype": "text/x-python",
   "name": "python",
   "nbconvert_exporter": "python",
   "pygments_lexer": "ipython3",
   "version": "3.10.12"
  },
  "orig_nbformat": 4
 },
 "nbformat": 4,
 "nbformat_minor": 2
}
