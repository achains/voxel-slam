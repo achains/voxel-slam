{
 "cells": [
  {
   "cell_type": "code",
   "execution_count": 387,
   "metadata": {},
   "outputs": [],
   "source": [
    "import voxel_slam"
   ]
  },
  {
   "cell_type": "code",
   "execution_count": 388,
   "metadata": {},
   "outputs": [],
   "source": [
    "import numpy as np\n",
    "import mrob \n",
    "import open3d as o3d \n",
    "\n",
    "import pathlib\n",
    "import copy\n",
    "import distinctipy"
   ]
  },
  {
   "cell_type": "markdown",
   "metadata": {},
   "source": [
    "### I/O "
   ]
  },
  {
   "cell_type": "code",
   "execution_count": 389,
   "metadata": {},
   "outputs": [],
   "source": [
    "def read_depth_to_rgb_map(association_path):\n",
    "    depth_to_rgb_map = dict()\n",
    "    with open(association_path) as data:\n",
    "        for line in data:\n",
    "            _, color_name, _, depth_name = line.split()\n",
    "            color_name = color_name.strip('\\n').lstrip(\"color/\")\n",
    "            depth_name = depth_name.strip('\\n').lstrip(\"depth/\")\n",
    "            depth_to_rgb_map[depth_name] = color_name\n",
    "    return depth_to_rgb_map\n",
    "\n",
    "def parse_trajectories(input_path):\n",
    "    ts = dict()\n",
    "    with open(input_path) as data:\n",
    "        for line in data:\n",
    "            if line.startswith('#'):\n",
    "                continue\n",
    "            line_tokens = line.strip('\\n').split()\n",
    "            \n",
    "            timestamp = line_tokens[0].replace('.', '')\n",
    "            timestamp = \"0\" * (12 - len(timestamp)) + timestamp\n",
    "            \n",
    "            trajectory = np.asarray(list(map(float, line_tokens[1:])))\n",
    "            ts.update({timestamp: trajectory})\n",
    "    return ts\n",
    "\n",
    "\n",
    "def filename_to_pose(depth_filename: str, depth_to_rgb_map: str, poses: dict):\n",
    "    rgb_filename = depth_to_rgb_map[depth_filename].rstrip(\".png\")\n",
    "    return poses[\"0\" * (12 - len(rgb_filename)) + rgb_filename]\n",
    "\n",
    "\n",
    "def trajectory_to_se3(trajectory):\n",
    "    t, Q = trajectory[:3], trajectory[3:]\n",
    "    R = mrob.geometry.SO3(mrob.geometry.quat_to_so3(Q))\n",
    "    return mrob.geometry.SE3(R, t)\n",
    "\n",
    "def parse_trajectories_float(input_path, ts_multiplier=1e9):\n",
    "    ts = dict()\n",
    "    with open(input_path) as data:\n",
    "        for line in data:\n",
    "            if line.startswith('#'):\n",
    "                continue\n",
    "            line_tokens = line.strip('\\n').split()\n",
    "            \n",
    "            timestamp = float(line_tokens[0]) * ts_multiplier\n",
    "            \n",
    "            trajectory = np.asarray(list(map(float, line_tokens[1:])))\n",
    "            ts.update({timestamp: trajectory})\n",
    "    return ts"
   ]
  },
  {
   "cell_type": "code",
   "execution_count": 390,
   "metadata": {},
   "outputs": [],
   "source": [
    "def closest_argmin(A, B):\n",
    "    L = B.size\n",
    "    sidx_B = B.argsort()\n",
    "    sorted_B = B[sidx_B]\n",
    "    sorted_idx = np.searchsorted(sorted_B, A)\n",
    "    sorted_idx[sorted_idx==L] = L-1\n",
    "    mask = (sorted_idx > 0) & \\\n",
    "    ((np.abs(A - sorted_B[sorted_idx-1]) < np.abs(A - sorted_B[sorted_idx])) )\n",
    "    return sidx_B[sorted_idx-mask]"
   ]
  },
  {
   "cell_type": "code",
   "execution_count": 391,
   "metadata": {},
   "outputs": [],
   "source": [
    "def break_on_sectors(pcd, number_of_sectors):\n",
    "    sector_rad = 2 * np.pi / number_of_sectors\n",
    "    sectors = {}\n",
    "    for i in range(number_of_sectors):\n",
    "        sectors[i * sector_rad, (i + 1) * sector_rad] = []\n",
    "\n",
    "    for point_i, point in enumerate(np.asarray(pcd.points)):\n",
    "        angle = np.arctan2(point[1], point[0])\n",
    "        if angle < 0:\n",
    "            angle += 2 * np.pi\n",
    "        \n",
    "        for angle_range in sectors:\n",
    "            if angle_range[0] <= angle <= angle_range[1]:\n",
    "                sectors[angle_range].append(point_i)\n",
    "                break    \n",
    "\n",
    "    return sectors"
   ]
  },
  {
   "cell_type": "code",
   "execution_count": 397,
   "metadata": {},
   "outputs": [],
   "source": [
    "def read_hilti_sequence(ts_to_quat, \n",
    "                        ts_to_depth_path,\n",
    "                        ts_to_imu, \n",
    "                        pose_to_imu_assoc,\n",
    "                        number_of_sectors=30,\n",
    "                        start_of_sequence=0, \n",
    "                        number_of_clouds=-1, \n",
    "                        center_distance_threshold=1.5):\n",
    "    poses = []\n",
    "    clouds = []\n",
    "    undistorted_clouds = []\n",
    "\n",
    "    lidar_so3 = mrob.geometry.SO3(mrob.geometry.quat_to_so3(np.asarray([ 0.7071068, -0.7071068, 0, 0 ])))\n",
    "    lidar_t = np.asarray([ -0.001, -0.00855, 0.055 ])   \n",
    "    imu_to_lidar_se3 = mrob.geometry.SE3(lidar_so3, lidar_t).T()\n",
    "\n",
    "    max_angular_norm = None\n",
    "    max_anglular_norm_id = -1\n",
    "\n",
    "    for i, ts in enumerate(sorted(ts_to_quat)[start_of_sequence : start_of_sequence + number_of_clouds]):\n",
    "        imu_pose = trajectory_to_se3(ts_to_quat[ts]).T()\n",
    "\n",
    "        pose = imu_pose @ imu_to_lidar_se3\n",
    "        cloud = o3d.io.read_point_cloud(str(ts_to_depth_path[ts]))\n",
    "        cloud_points = np.asarray(cloud.points)\n",
    "        f = np.where(np.linalg.norm(cloud_points, axis=1) > center_distance_threshold)[0] \n",
    "        cloud.points = o3d.utility.Vector3dVector(cloud_points[f])\n",
    "        cloud.paint_uniform_color([0.0, 0.0, 0.0])\n",
    "        clouds.append(cloud)\n",
    "\n",
    "        # Ego motion undistortion\n",
    "        number_of_sectors = 30\n",
    "        scan_time = 0.1\n",
    "        sectors = break_on_sectors(cloud, number_of_sectors=number_of_sectors)\n",
    "\n",
    "        cloud_imu = ts_to_imu[pose_to_imu_assoc[ts]]\n",
    "        angular_velocity = cloud_imu[-3:]\n",
    "\n",
    "        if i == 0:\n",
    "            angular_velocity = np.zeros(3)\n",
    "\n",
    "        if max_angular_norm is None:\n",
    "            max_angular_norm = np.linalg.norm(angular_velocity)\n",
    "            max_anglular_norm_id = i\n",
    "\n",
    "        if np.linalg.norm(angular_velocity) > max_angular_norm:\n",
    "            max_angular_norm = np.linalg.norm(angular_velocity)\n",
    "            max_anglular_norm_id = i\n",
    "\n",
    "        undistorted_cloud = o3d.geometry.PointCloud()\n",
    "\n",
    "        for i, sector_point_idx in enumerate(sectors.values()):\n",
    "            if len(sector_point_idx) == 0:\n",
    "                continue\n",
    "            # TODO: Identity\n",
    "            sector_multiplier = (i + 1) * (scan_time / number_of_sectors)\n",
    "            sector_velocity = sector_multiplier * angular_velocity\n",
    "            imu_sector_transform = mrob.SE3(mrob.SO3(sector_velocity), np.zeros(3))\n",
    "            \n",
    "            dT = np.linalg.inv(imu_to_lidar_se3) @ np.linalg.inv(imu_sector_transform.T()) @ imu_to_lidar_se3\n",
    "            sector_cloud = cloud.select_by_index(sector_point_idx)\n",
    "            sector_cloud.transform(dT)\n",
    "            undistorted_cloud += sector_cloud\n",
    "\n",
    "\n",
    "        # #######################\n",
    "        \n",
    "        poses.append(pose)\n",
    "        undistorted_clouds.append(undistorted_cloud)\n",
    "\n",
    "    print(max_angular_norm, max_anglular_norm_id)\n",
    "    return clouds, undistorted_clouds, poses"
   ]
  },
  {
   "cell_type": "code",
   "execution_count": 398,
   "metadata": {},
   "outputs": [],
   "source": [
    "clouds_path = \"/home/ach/Desktop/datasets/hilti/out2\"\n",
    "poses_path = \"/home/ach/Desktop/datasets/hilti/exp14_basement_2_imu.txt\"\n",
    "imu_path = \"/home/ach/Desktop/datasets/hilti/hilti_imu.txt\""
   ]
  },
  {
   "cell_type": "code",
   "execution_count": 399,
   "metadata": {},
   "outputs": [],
   "source": [
    "ts_multiplier = 1 / 1e9\n",
    "ts_to_depth_path = {float(x.stem) * ts_multiplier : x for x in pathlib.Path(clouds_path).iterdir()}\n",
    "ts_to_quat = parse_trajectories_float(poses_path, ts_multiplier)\n",
    "ts_to_imu = parse_trajectories_float(imu_path, ts_multiplier=ts_multiplier)"
   ]
  },
  {
   "cell_type": "code",
   "execution_count": 400,
   "metadata": {},
   "outputs": [],
   "source": [
    "imu_ts = np.asarray(list(ts_to_imu.keys()), dtype=np.float64) \n",
    "poses_ts = np.asarray(list(ts_to_quat.keys()), dtype=np.float64)\n",
    "closest = closest_argmin(poses_ts, imu_ts)\n",
    "pose_imu_assoc = {poses_ts[i]: imu_ts[closest[i]] for i in range(len(poses_ts))} "
   ]
  },
  {
   "cell_type": "code",
   "execution_count": 401,
   "metadata": {},
   "outputs": [
    {
     "name": "stdout",
     "output_type": "stream",
     "text": [
      "0.4670675374487492 4\n"
     ]
    }
   ],
   "source": [
    "clouds, undistorted_clouds, poses = read_hilti_sequence(ts_to_quat, \n",
    "                                    ts_to_depth_path, \n",
    "                                    ts_to_imu,\n",
    "                                    pose_to_imu_assoc=pose_imu_assoc,\n",
    "                                    number_of_sectors=10, \n",
    "                                    start_of_sequence=310, \n",
    "                                    number_of_clouds=5, \n",
    "                                    center_distance_threshold=3)"
   ]
  },
  {
   "cell_type": "code",
   "execution_count": 384,
   "metadata": {},
   "outputs": [],
   "source": [
    "for pcd in clouds:\n",
    "    pcd.paint_uniform_color([1.0, 0.0 , 0.0])\n",
    "\n",
    "for pcd in undistorted_clouds:\n",
    "    pcd.paint_uniform_color([0.0, 1.0 , 0.0])"
   ]
  },
  {
   "cell_type": "code",
   "execution_count": 385,
   "metadata": {},
   "outputs": [],
   "source": [
    "for i in range(len(clouds)):\n",
    "    o3d.visualization.draw_geometries([clouds[i], undistorted_clouds[i]])"
   ]
  },
  {
   "cell_type": "code",
   "execution_count": 371,
   "metadata": {},
   "outputs": [],
   "source": [
    "o3d.visualization.draw_geometries([voxel_slam.aggregate_map(undistorted_clouds, poses)])"
   ]
  },
  {
   "cell_type": "code",
   "execution_count": 373,
   "metadata": {},
   "outputs": [],
   "source": [
    "o3d.visualization.draw_geometries([voxel_slam.aggregate_map(clouds, poses), voxel_slam.aggregate_map(undistorted_clouds, poses)])"
   ]
  }
 ],
 "metadata": {
  "kernelspec": {
   "display_name": "venv",
   "language": "python",
   "name": "python3"
  },
  "language_info": {
   "codemirror_mode": {
    "name": "ipython",
    "version": 3
   },
   "file_extension": ".py",
   "mimetype": "text/x-python",
   "name": "python",
   "nbconvert_exporter": "python",
   "pygments_lexer": "ipython3",
   "version": "3.10.12"
  },
  "orig_nbformat": 4
 },
 "nbformat": 4,
 "nbformat_minor": 2
}
