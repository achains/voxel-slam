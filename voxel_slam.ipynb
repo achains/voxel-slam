{
 "cells": [
  {
   "cell_type": "code",
   "execution_count": 1,
   "metadata": {},
   "outputs": [
    {
     "name": "stdout",
     "output_type": "stream",
     "text": [
      "Jupyter environment detected. Enabling Open3D WebVisualizer.\n",
      "[Open3D INFO] WebRTC GUI backend enabled.\n",
      "[Open3D INFO] WebRTCWindowSystem: HTTP handshake server disabled.\n"
     ]
    }
   ],
   "source": [
    "import voxel_slam"
   ]
  },
  {
   "cell_type": "code",
   "execution_count": 2,
   "metadata": {},
   "outputs": [],
   "source": [
    "import numpy as np\n",
    "import mrob \n",
    "import open3d as o3d \n",
    "\n",
    "import pathlib"
   ]
  },
  {
   "cell_type": "markdown",
   "metadata": {},
   "source": [
    "### I/O "
   ]
  },
  {
   "cell_type": "code",
   "execution_count": 3,
   "metadata": {},
   "outputs": [],
   "source": [
    "def read_depth_to_rgb_map(association_path):\n",
    "    depth_to_rgb_map = dict()\n",
    "    with open(association_path) as data:\n",
    "        for line in data:\n",
    "            _, color_name, _, depth_name = line.split()\n",
    "            color_name = color_name.strip('\\n').lstrip(\"color/\")\n",
    "            depth_name = depth_name.strip('\\n').lstrip(\"depth/\")\n",
    "            depth_to_rgb_map[depth_name] = color_name\n",
    "    return depth_to_rgb_map\n",
    "\n",
    "def parse_trajectories(input_path):\n",
    "    ts = dict()\n",
    "    with open(input_path) as data:\n",
    "        for line in data:\n",
    "            line_tokens = line.strip('\\n').split()\n",
    "            \n",
    "            timestamp = line_tokens[0].replace('.', '')\n",
    "            timestamp = \"0\" * (12 - len(timestamp)) + timestamp\n",
    "            \n",
    "            trajectory = np.asarray(list(map(float, line_tokens[1:])))\n",
    "            ts.update({timestamp: trajectory})\n",
    "    return ts\n",
    "\n",
    "\n",
    "def filename_to_pose(depth_filename: str, depth_to_rgb_map: str, poses: dict):\n",
    "    rgb_filename = depth_to_rgb_map[depth_filename].rstrip(\".png\")\n",
    "    return poses[\"0\" * (12 - len(rgb_filename)) + rgb_filename]\n",
    "\n",
    "\n",
    "def trajectory_to_se3(trajectory):\n",
    "    t, Q = trajectory[:3], trajectory[3:]\n",
    "    R = mrob.geometry.SO3(mrob.geometry.quat_to_so3(Q))\n",
    "    return mrob.geometry.SE3(R, t)\n",
    "\n",
    "def parse_trajectories_float(input_path, ts_multiplier=1e9):\n",
    "    ts = dict()\n",
    "    with open(input_path) as data:\n",
    "        for line in data:\n",
    "            line_tokens = line.strip('\\n').split()\n",
    "            \n",
    "            timestamp = float(line_tokens[0]) * ts_multiplier\n",
    "            \n",
    "            trajectory = np.asarray(list(map(float, line_tokens[1:])))\n",
    "            ts.update({timestamp: trajectory})\n",
    "    return ts"
   ]
  },
  {
   "cell_type": "code",
   "execution_count": 4,
   "metadata": {},
   "outputs": [],
   "source": [
    "def read_hilti_sequence(ts_to_quat, ts_to_depth_path, start_of_sequence=0, number_of_clouds=-1, h=1.5):\n",
    "    poses = []\n",
    "    clouds = []\n",
    "\n",
    "    lidar_so3 = mrob.geometry.SO3(mrob.geometry.quat_to_so3(np.asarray([ 0.7071068, -0.7071068, 0, 0 ])))\n",
    "    lidat_t = np.asarray([ -0.001, -0.00855, 0.055 ])   \n",
    "    imu_to_lidar_se3 = mrob.geometry.SE3(lidar_so3, lidat_t).T()\n",
    "\n",
    "    for ts in sorted(ts_to_quat)[start_of_sequence : start_of_sequence + number_of_clouds]:\n",
    "        imu_pose = trajectory_to_se3(ts_to_quat[ts]).T()\n",
    "\n",
    "        pose = imu_pose @ imu_to_lidar_se3\n",
    "        cloud = o3d.io.read_point_cloud(str(ts_to_depth_path[ts]))\n",
    "        cloud_points = np.asarray(cloud.points)\n",
    "        f = np.where(np.linalg.norm(cloud_points, axis=1) > h)[0] \n",
    "\n",
    "        cloud.points = o3d.utility.Vector3dVector(cloud_points[f])\n",
    "\n",
    "        cloud.paint_uniform_color([0.0, 0.0, 0.0])\n",
    "        \n",
    "        poses.append(pose)\n",
    "        clouds.append(cloud)\n",
    "\n",
    "    return clouds, poses"
   ]
  },
  {
   "cell_type": "markdown",
   "metadata": {},
   "source": [
    "## VoxelSLAM"
   ]
  },
  {
   "cell_type": "code",
   "execution_count": 5,
   "metadata": {},
   "outputs": [],
   "source": [
    "def get_plane_mse(points, verbose=False):\n",
    "    c = np.mean(points, axis=0)\n",
    "    A = np.array(points) - c\n",
    "    eigvals, _ = np.linalg.eig(A.T @ A)\n",
    "    if verbose:\n",
    "        print(min(eigvals) / points.shape[0])\n",
    "    return min(eigvals) / points.shape[0]"
   ]
  },
  {
   "cell_type": "code",
   "execution_count": 6,
   "metadata": {},
   "outputs": [],
   "source": [
    "import copy"
   ]
  },
  {
   "cell_type": "code",
   "execution_count": 7,
   "metadata": {},
   "outputs": [],
   "source": [
    "def get_optimized_poses(clouds_cp, poses_cp):\n",
    "    clouds = copy.deepcopy(clouds_cp)\n",
    "    poses = copy.deepcopy(poses_cp)\n",
    "    voxel_map = voxel_slam.frontend.VoxelFeatureMap(clouds, poses, voxel_size=2)\n",
    "    f_function = lambda points: np.asarray(points).shape[0] > 0\n",
    "    \n",
    "    voxel_feature_map = voxel_map.extract_voxel_features(\n",
    "        ransac_distance_threshold=0.005, \n",
    "        points_filter_function=f_function\n",
    "    )\n",
    "    voxel_map.filter_voxel_features(voxel_feature_map, preserve_non_informative_voxels=True)\n",
    "    graph = voxel_slam.backend.FGraph(voxel_feature_map, number_of_poses=len(poses))\n",
    "    optimized_poses = graph.get_optimized_poses()\n",
    "    colored_pcd, color_to_voxel_id = voxel_map.get_colored_feature_clouds(voxel_feature_map, color_method=\"voxel\")\n",
    "    # return color_to_voxel_id\n",
    "    return colored_pcd, optimized_poses"
   ]
  },
  {
   "cell_type": "code",
   "execution_count": 8,
   "metadata": {},
   "outputs": [],
   "source": [
    "clouds_path = \"/home/ach/Desktop/datasets/hilti/out2\"\n",
    "poses_path = \"/home/ach/Desktop/datasets/hilti/exp14_basement_2_imu.txt\""
   ]
  },
  {
   "cell_type": "code",
   "execution_count": 9,
   "metadata": {},
   "outputs": [],
   "source": [
    "ts_multiplier = 1 / 1e9\n",
    "ts_to_depth_path = {float(x.stem) * ts_multiplier : x for x in pathlib.Path(clouds_path).iterdir()}\n",
    "ts_to_quat = parse_trajectories_float(poses_path, ts_multiplier)"
   ]
  },
  {
   "cell_type": "code",
   "execution_count": 10,
   "metadata": {},
   "outputs": [],
   "source": [
    "clouds, poses = read_hilti_sequence(ts_to_quat, ts_to_depth_path, start_of_sequence=300, number_of_clouds=30, h=3)\n",
    "# clouds, poses = read_hilti_sequence(ts_to_quat, ts_to_depth_path, start_of_sequence=0, number_of_clouds=400, h=3)"
   ]
  },
  {
   "cell_type": "code",
   "execution_count": 11,
   "metadata": {},
   "outputs": [],
   "source": [
    "o3d.visualization.draw_geometries([voxel_slam.aggregate_map(clouds, poses, enable_color=True)])"
   ]
  },
  {
   "cell_type": "markdown",
   "metadata": {},
   "source": [
    "### AHC Optimizer"
   ]
  },
  {
   "cell_type": "code",
   "execution_count": 12,
   "metadata": {},
   "outputs": [
    {
     "name": "stdout",
     "output_type": "stream",
     "text": [
      "FGraph initial error: 0.38892875661661935\n",
      "Chi2: 0.5685292757284053\n",
      "Time (init): 0.000804095\n",
      "FGraph initial error: 22.311887878434383\n",
      "Chi2: 15.122397632380487\n",
      "Time (init): 0.00070744\n",
      "FGraph initial error: 200.3095820687082\n",
      "Chi2: 25.126707025089104\n",
      "Time (init): 0.000824724\n",
      "FGraph initial error: 210.72679229807403\n",
      "Chi2: 9.803795503478298\n",
      "Time (init): 0.000938893\n",
      "FGraph initial error: 143.13762547866756\n",
      "Chi2: 8.89666277206752\n",
      "Time (init): 0.00146686\n",
      "FGraph initial error: 91.15382819232799\n",
      "Chi2: 50.91058038299922\n",
      "Time (init): 0.004372985\n"
     ]
    }
   ],
   "source": [
    "window_size = 5\n",
    "optimized_submaps = {}\n",
    "\n",
    "transformed_clouds = voxel_slam.VoxelFeatureMap(clouds, poses, voxel_size=2).transformed_clouds\n",
    "\n",
    "for i in range(0, len(clouds), window_size):\n",
    "    optimized_submaps[i] = get_optimized_poses(transformed_clouds[i:i+window_size], [np.eye(4) for _ in range(window_size)])\n",
    "\n",
    "# for i in range(0, len(clouds), window_size):\n",
    "#     optimized_submaps[i] = get_optimized_poses(clouds[i:i+window_size], poses[i:i+window_size])"
   ]
  },
  {
   "cell_type": "code",
   "execution_count": 13,
   "metadata": {},
   "outputs": [],
   "source": [
    "aggregated_submaps = {k: voxel_slam.aggregate_map(pcd, pose) for k, (pcd, pose) in optimized_submaps.items()}"
   ]
  },
  {
   "cell_type": "code",
   "execution_count": 14,
   "metadata": {},
   "outputs": [],
   "source": [
    "for k, pcd in aggregated_submaps.items():\n",
    "    pcd.paint_uniform_color([0.0, 0.0, 0.0])"
   ]
  },
  {
   "cell_type": "code",
   "execution_count": 15,
   "metadata": {},
   "outputs": [],
   "source": [
    "o3d.visualization.draw_geometries(list(aggregated_submaps.values()))"
   ]
  },
  {
   "cell_type": "code",
   "execution_count": 18,
   "metadata": {},
   "outputs": [
    {
     "name": "stdout",
     "output_type": "stream",
     "text": [
      "FGraph initial error: 3814.903836350763\n",
      "Chi2: 367.5497820987035\n",
      "Time (init): 0.008787516\n"
     ]
    }
   ],
   "source": [
    "ahc_clouds, ahc_poses = get_optimized_poses(list(aggregated_submaps.values()), [np.eye(4) for _ in range(len(aggregated_submaps))])"
   ]
  },
  {
   "cell_type": "code",
   "execution_count": 17,
   "metadata": {},
   "outputs": [],
   "source": [
    "o3d.visualization.draw_geometries([voxel_slam.aggregate_map(ahc_clouds, ahc_poses)])"
   ]
  },
  {
   "cell_type": "markdown",
   "metadata": {},
   "source": [
    "### Default pipeline"
   ]
  },
  {
   "cell_type": "code",
   "execution_count": 11,
   "metadata": {},
   "outputs": [],
   "source": [
    "voxel_map = voxel_slam.frontend.VoxelFeatureMap(clouds, poses, voxel_size=2)"
   ]
  },
  {
   "cell_type": "code",
   "execution_count": 12,
   "metadata": {},
   "outputs": [],
   "source": [
    "voxel_feature_map = voxel_map.extract_voxel_features(ransac_distance_threshold=0.003, points_filter_function=lambda points: np.asarray(points).shape[0] > 0)"
   ]
  },
  {
   "cell_type": "code",
   "execution_count": 13,
   "metadata": {},
   "outputs": [],
   "source": [
    "voxel_map.filter_voxel_features(voxel_feature_map)"
   ]
  },
  {
   "cell_type": "code",
   "execution_count": 14,
   "metadata": {},
   "outputs": [
    {
     "name": "stdout",
     "output_type": "stream",
     "text": [
      "FGraph initial error: 13304.708160288104\n",
      "Chi2: 1760.4497651593927\n"
     ]
    }
   ],
   "source": [
    "graph = voxel_slam.backend.FGraph(voxel_feature_map, number_of_poses=len(poses))\n",
    "optimized_poses = graph.get_optimized_poses()"
   ]
  },
  {
   "cell_type": "code",
   "execution_count": 20,
   "metadata": {},
   "outputs": [
    {
     "name": "stdout",
     "output_type": "stream",
     "text": [
      "Time (init): 0.007771299\n"
     ]
    }
   ],
   "source": [
    "colored_clouds_voxel, color_to_voxel_id = voxel_map.get_colored_feature_clouds(voxel_feature_map, color_method=\"voxel\")"
   ]
  },
  {
   "cell_type": "code",
   "execution_count": 21,
   "metadata": {},
   "outputs": [],
   "source": [
    "optimized_map = voxel_slam.utility.aggregate_map(colored_clouds_voxel, optimized_poses)"
   ]
  },
  {
   "cell_type": "code",
   "execution_count": 22,
   "metadata": {},
   "outputs": [],
   "source": [
    "o3d.visualization.draw_geometries([optimized_map])"
   ]
  },
  {
   "cell_type": "code",
   "execution_count": 18,
   "metadata": {},
   "outputs": [],
   "source": [
    "def pick_points(pcd):\n",
    "    vis = o3d.visualization.VisualizerWithEditing()\n",
    "    vis.create_window()\n",
    "    vis.add_geometry(pcd)\n",
    "    vis.run()  # user picks points\n",
    "    vis.destroy_window()\n",
    "    print(\"\")\n",
    "    return vis.get_picked_points()"
   ]
  },
  {
   "cell_type": "code",
   "execution_count": 19,
   "metadata": {},
   "outputs": [],
   "source": [
    "def get_points_stat():\n",
    "    picked_points_idx = pick_points(optimized_map)\n",
    "    pcd_fragment = optimized_map.select_by_index(picked_points_idx) \n",
    "    fragment_color = np.asarray(pcd_fragment.colors)[0]\n",
    "    voxel_id = color_to_voxel_id[tuple(fragment_color)]\n",
    "\n",
    "    keys = list(voxel_feature_map[voxel_id].keys())\n",
    "    plane_points = voxel_feature_map[voxel_id][keys[0]].points\n",
    "    o3d.visualization.draw_geometries([o3d.geometry.PointCloud(o3d.utility.Vector3dVector(plane_points))])\n",
    "\n",
    "    c = np.mean(plane_points, axis=0)\n",
    "    A = np.array(plane_points) - c\n",
    "    eigvals, _ = np.linalg.eig(A.T @ A)\n",
    "    eigvals.sort()\n",
    "\n",
    "    print(eigvals)\n",
    "    print(\"ev1 / ev2:\", eigvals[1] / eigvals[2])\n",
    "    print(\"min(ev) / sum(ev)\", min(eigvals) / sum(eigvals))\n",
    "    print(\"min(eigvals) / points.shape[0]\", min(eigvals) / np.asarray(plane_points).shape[0])"
   ]
  },
  {
   "cell_type": "code",
   "execution_count": null,
   "metadata": {},
   "outputs": [],
   "source": []
  }
 ],
 "metadata": {
  "kernelspec": {
   "display_name": "venv",
   "language": "python",
   "name": "python3"
  },
  "language_info": {
   "codemirror_mode": {
    "name": "ipython",
    "version": 3
   },
   "file_extension": ".py",
   "mimetype": "text/x-python",
   "name": "python",
   "nbconvert_exporter": "python",
   "pygments_lexer": "ipython3",
   "version": "3.10.12"
  },
  "orig_nbformat": 4
 },
 "nbformat": 4,
 "nbformat_minor": 2
}
