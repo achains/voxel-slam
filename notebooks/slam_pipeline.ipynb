{
 "cells": [
  {
   "cell_type": "code",
   "execution_count": 1,
   "metadata": {},
   "outputs": [],
   "source": [
    "import sys\n",
    "import pathlib\n",
    "import copy\n",
    "\n",
    "sys.path.append(\"..\")"
   ]
  },
  {
   "cell_type": "code",
   "execution_count": 2,
   "metadata": {},
   "outputs": [
    {
     "name": "stdout",
     "output_type": "stream",
     "text": [
      "Jupyter environment detected. Enabling Open3D WebVisualizer.\n",
      "[Open3D INFO] WebRTC GUI backend enabled.\n",
      "[Open3D INFO] WebRTCWindowSystem: HTTP handshake server disabled.\n"
     ]
    }
   ],
   "source": [
    "import mrob \n",
    "import numpy as np\n",
    "import open3d as o3d \n",
    "\n",
    "import random"
   ]
  },
  {
   "cell_type": "code",
   "execution_count": 3,
   "metadata": {},
   "outputs": [],
   "source": [
    "import voxel_slam"
   ]
  },
  {
   "cell_type": "markdown",
   "metadata": {},
   "source": [
    "## I/O"
   ]
  },
  {
   "cell_type": "code",
   "execution_count": 4,
   "metadata": {},
   "outputs": [],
   "source": [
    "def parse_trajectories_float(input_path, ts_multiplier=1e9):\n",
    "    ts = dict()\n",
    "    with open(input_path) as data:\n",
    "        for line in data:\n",
    "            line_tokens = line.strip('\\n').split()\n",
    "            \n",
    "            timestamp = float(line_tokens[0]) * ts_multiplier\n",
    "            \n",
    "            trajectory = np.asarray(list(map(float, line_tokens[1:])))\n",
    "            ts.update({timestamp: trajectory})\n",
    "    return ts\n",
    "\n",
    "\n",
    "def trajectory_to_se3(trajectory):\n",
    "    t, Q = trajectory[:3], trajectory[3:]\n",
    "    R = mrob.geometry.SO3(mrob.geometry.quat_to_so3(Q))\n",
    "    return mrob.geometry.SE3(R, t)\n",
    "\n",
    "def read_hilti_sequence(ts_to_quat, ts_to_depth_path, start_of_sequence=0, number_of_clouds=-1, center_distance_threshold=1.5):\n",
    "    poses = []\n",
    "    clouds = []\n",
    "\n",
    "    lidar_so3 = mrob.geometry.SO3(mrob.geometry.quat_to_so3(np.asarray([ 0.7071068, -0.7071068, 0, 0 ])))\n",
    "    lidar_t = np.asarray([ -0.001, -0.00855, 0.055 ])   \n",
    "    imu_to_lidar_se3 = mrob.geometry.SE3(lidar_so3, lidar_t).T()\n",
    "\n",
    "    for ts in sorted(ts_to_quat)[start_of_sequence : start_of_sequence + number_of_clouds]:\n",
    "        imu_pose = trajectory_to_se3(ts_to_quat[ts]).T()\n",
    "\n",
    "        pose = imu_pose @ imu_to_lidar_se3\n",
    "        cloud = o3d.io.read_point_cloud(str(ts_to_depth_path[ts]))\n",
    "        cloud_points = np.asarray(cloud.points)\n",
    "        f = np.where(np.linalg.norm(cloud_points, axis=1) > center_distance_threshold)[0] \n",
    "\n",
    "        cloud.points = o3d.utility.Vector3dVector(cloud_points[f])\n",
    "\n",
    "        cloud.paint_uniform_color([0.0, 0.0, 0.0])\n",
    "        \n",
    "        poses.append(pose)\n",
    "        clouds.append(cloud)\n",
    "\n",
    "    return clouds, poses"
   ]
  },
  {
   "cell_type": "code",
   "execution_count": 5,
   "metadata": {},
   "outputs": [],
   "source": [
    "clouds_path = \"/home/ach/Desktop/datasets/hilti/out2\"\n",
    "poses_path = \"/home/ach/Desktop/datasets/hilti/exp14_basement_2_imu.txt\""
   ]
  },
  {
   "cell_type": "code",
   "execution_count": 6,
   "metadata": {},
   "outputs": [],
   "source": [
    "ts_multiplier = 1 / 1e9\n",
    "ts_to_depth_path = {float(x.stem) * ts_multiplier : x for x in pathlib.Path(clouds_path).iterdir()}\n",
    "ts_to_quat = parse_trajectories_float(poses_path, ts_multiplier)"
   ]
  },
  {
   "cell_type": "code",
   "execution_count": 7,
   "metadata": {},
   "outputs": [],
   "source": [
    "clouds, poses = read_hilti_sequence(ts_to_quat, ts_to_depth_path, start_of_sequence=300, number_of_clouds=30, center_distance_threshold=3)"
   ]
  },
  {
   "cell_type": "markdown",
   "metadata": {},
   "source": [
    "## Optimization"
   ]
  },
  {
   "cell_type": "code",
   "execution_count": 8,
   "metadata": {},
   "outputs": [],
   "source": [
    "config = voxel_slam.PipelineConfig(voxel_size=2.0, \n",
    "                                   ransac_distance_threshold=0.1, \n",
    "                                   filter_cosine_distance_threshold=0.2,\n",
    "                                   backend_verbose=True,\n",
    "                                   voxel_color_method=\"voxel\")"
   ]
  },
  {
   "cell_type": "code",
   "execution_count": 9,
   "metadata": {},
   "outputs": [],
   "source": [
    "voxel_filter = voxel_slam.NormalsFilter(config.filter_cosine_distance_threshold)\n",
    "voxel_filter.set_next(voxel_slam.PlaneDistanceFilter()).set_next(voxel_slam.EmptyVoxelsFilter());"
   ]
  },
  {
   "cell_type": "code",
   "execution_count": 10,
   "metadata": {},
   "outputs": [],
   "source": [
    "pipeline = voxel_slam.VoxelSLAMPipeline(\n",
    "    feature_filter=voxel_filter,\n",
    "    optimization_backend=voxel_slam.BaregBackend,\n",
    "    config=config\n",
    ")"
   ]
  },
  {
   "cell_type": "code",
   "execution_count": 11,
   "metadata": {},
   "outputs": [
    {
     "name": "stdout",
     "output_type": "stream",
     "text": [
      "FGraph initial error: 71965.88942832584\n",
      "Iteratios to converge: 49\n",
      "Chi2: 55454.78621505488\n"
     ]
    }
   ],
   "source": [
    "pipeline_output = pipeline.process(clouds, poses)"
   ]
  },
  {
   "cell_type": "code",
   "execution_count": 12,
   "metadata": {},
   "outputs": [],
   "source": [
    "o3d.visualization.draw_geometries([voxel_slam.aggregate_map(pipeline_output.optimized_clouds, pipeline_output.optimized_poses)])"
   ]
  },
  {
   "cell_type": "markdown",
   "metadata": {},
   "source": [
    "## Mini Maps"
   ]
  },
  {
   "cell_type": "code",
   "execution_count": 43,
   "metadata": {},
   "outputs": [],
   "source": [
    "def get_planes_eigvals(plane_normals): \n",
    "    matrix = [] \n",
    "    for plane in plane_normals: \n",
    "        matrix.append(plane) \n",
    "    matrix = np.asarray(matrix) \n",
    "    covariance = matrix.T @ matrix \n",
    "    eigvals, _ = np.linalg.eig(covariance) \n",
    "    return eigvals"
   ]
  },
  {
   "cell_type": "code",
   "execution_count": 44,
   "metadata": {},
   "outputs": [],
   "source": [
    "def minimap_sampling(clouds, \n",
    "                     poses, \n",
    "                     config: voxel_slam.PipelineConfig, \n",
    "                     optimization_backend, \n",
    "                     sample_iterations=30, \n",
    "                     sample_ratio=0.7, \n",
    "                     plane_df_threshold=1e-1):\n",
    "    voxel_map = voxel_slam.VoxelFeatureMap(clouds, poses, voxel_size=config.voxel_size)\n",
    "    voxel_feature_map = voxel_map.extract_voxel_features(ransac_distance_threshold=config.ransac_distance_threshold)\n",
    "\n",
    "    feature_filter = voxel_slam.NormalsFilter(config.filter_cosine_distance_threshold)\n",
    "    feature_filter.set_next(voxel_slam.EmptyVoxelsFilter(min_voxel_poses=len(poses)))\n",
    "\n",
    "    feature_filter.filter(voxel_feature_map)\n",
    "\n",
    "    feature_map_idx = list(voxel_feature_map.keys())    \n",
    "    samples_chis = []\n",
    "    samples_optimized_poses = []\n",
    "    samples_idx = []\n",
    "    for _ in range(sample_iterations):\n",
    "        sampled_voxel_map = {}\n",
    "        sampled_voxel_idx = random.sample(feature_map_idx, k=int(sample_ratio * len(feature_map_idx)))\n",
    "        sampled_planes = []\n",
    "\n",
    "        for voxel_id in sampled_voxel_idx:\n",
    "            sampled_voxel_map[voxel_id] = copy.deepcopy(voxel_feature_map[voxel_id])\n",
    "            sampled_planes.append(sampled_voxel_map[voxel_id][0].get_plane_equation()[:-1])\n",
    "        \n",
    "        if min(get_planes_eigvals(sampled_planes)) < plane_df_threshold:\n",
    "            continue\n",
    "        \n",
    "        optimized_poses, converged, chi2 = optimization_backend(sampled_voxel_map, len(poses)).get_optimized_poses(number_of_iterations=1000)\n",
    "        if not converged:\n",
    "            continue\n",
    "\n",
    "        samples_chis.append(chi2)\n",
    "        samples_optimized_poses.append(optimized_poses)\n",
    "        samples_idx.append(sampled_voxel_idx)\n",
    "\n",
    "    min_chi_sample_id = np.argmin(samples_chis)\n",
    "    optimized_poses = samples_optimized_poses[min_chi_sample_id]\n",
    "\n",
    "    voxel_map_cut = {}\n",
    "    for k in samples_idx[min_chi_sample_id]:\n",
    "        voxel_map_cut[k] = copy.deepcopy(voxel_feature_map[k])\n",
    "        \n",
    "    optimized_clouds, _ = voxel_map.get_colored_feature_clouds(voxel_map_cut, color_method=\"voxel\")\n",
    "    \n",
    "    return optimized_clouds, optimized_poses"
   ]
  },
  {
   "cell_type": "code",
   "execution_count": 58,
   "metadata": {},
   "outputs": [],
   "source": [
    "def break_on_minimaps(clouds, poses, minimaps_config, aggregate_config, minimap_size=5):\n",
    "    transformed_clouds = [None for _ in range(len(poses))]\n",
    "    for i in range(len(poses)):\n",
    "        transformed_clouds[i] = copy.deepcopy(clouds[i]).transform(poses[i])\n",
    "\n",
    "    optimized_submaps = []\n",
    "    for i in range(0, len(poses), minimap_size):\n",
    "        opt_clouds, opt_poses = minimap_sampling(\n",
    "            transformed_clouds[i:i+minimap_size],\n",
    "            [np.eye(4) for _ in range(minimap_size)],\n",
    "            config=minimaps_config,\n",
    "            optimization_backend=voxel_slam.BaregBackend,\n",
    "            plane_df_threshold=15\n",
    "        )\n",
    "\n",
    "        optimized_submaps.append(\n",
    "            voxel_slam.aggregate_map(opt_clouds, opt_poses)\n",
    "        )\n",
    "\n",
    "    aggregate_filter = voxel_slam.EmptyVoxelsFilter(min_voxel_poses=2)\n",
    "\n",
    "    aggregate_pipeline = voxel_slam.VoxelSLAMPipeline(\n",
    "        feature_filter=aggregate_filter,\n",
    "        optimization_backend=voxel_slam.BaregBackend,\n",
    "        config=aggregate_config\n",
    "    )\n",
    "\n",
    "    aggregate_output = aggregate_pipeline.process(optimized_submaps, [np.eye(4) for _ in range(len(optimized_submaps))])\n",
    "\n",
    "    return aggregate_output "
   ]
  },
  {
   "cell_type": "code",
   "execution_count": 59,
   "metadata": {},
   "outputs": [],
   "source": [
    "minimaps_config = voxel_slam.PipelineConfig(\n",
    "    voxel_size=1.0,\n",
    "    ransac_distance_threshold=0.02,\n",
    "    filter_cosine_distance_threshold=0.2,\n",
    ")\n",
    "\n",
    "aggregate_config = copy.deepcopy(minimaps_config)\n",
    "aggregate_config.voxel_size = 2.0"
   ]
  },
  {
   "cell_type": "code",
   "execution_count": 60,
   "metadata": {},
   "outputs": [],
   "source": [
    "clouds, poses = read_hilti_sequence(ts_to_quat, ts_to_depth_path, start_of_sequence=300, number_of_clouds=30, center_distance_threshold=3)"
   ]
  },
  {
   "cell_type": "code",
   "execution_count": null,
   "metadata": {},
   "outputs": [],
   "source": [
    "output = break_on_minimaps(clouds, poses, minimaps_config, aggregate_config, minimap_size=5)"
   ]
  },
  {
   "cell_type": "code",
   "execution_count": 62,
   "metadata": {},
   "outputs": [],
   "source": [
    "o3d.visualization.draw_geometries([\n",
    "    voxel_slam.aggregate_map(\n",
    "        output.optimized_clouds,\n",
    "        output.optimized_poses\n",
    "    )\n",
    "])"
   ]
  },
  {
   "cell_type": "code",
   "execution_count": null,
   "metadata": {},
   "outputs": [],
   "source": []
  }
 ],
 "metadata": {
  "kernelspec": {
   "display_name": ".venv",
   "language": "python",
   "name": "python3"
  },
  "language_info": {
   "codemirror_mode": {
    "name": "ipython",
    "version": 3
   },
   "file_extension": ".py",
   "mimetype": "text/x-python",
   "name": "python",
   "nbconvert_exporter": "python",
   "pygments_lexer": "ipython3",
   "version": "3.10.12"
  },
  "orig_nbformat": 4
 },
 "nbformat": 4,
 "nbformat_minor": 2
}
