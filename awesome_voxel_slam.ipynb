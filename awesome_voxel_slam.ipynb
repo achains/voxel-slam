{
 "cells": [
  {
   "cell_type": "code",
   "execution_count": 174,
   "id": "9a6d3fab-a45a-4d8e-8b6e-4def053248b2",
   "metadata": {
    "tags": []
   },
   "outputs": [],
   "source": [
    "import voxel_slam"
   ]
  },
  {
   "cell_type": "code",
   "execution_count": 175,
   "id": "9d761ee1-e351-47c4-9867-030e261a8422",
   "metadata": {
    "tags": []
   },
   "outputs": [],
   "source": [
    "import open3d as o3d\n",
    "import numpy as np\n",
    "import copy \n",
    "import time\n",
    "\n",
    "from sklearn.cluster import AgglomerativeClustering\n",
    "from distinctipy import distinctipy\n",
    "\n",
    "from voxel_slam.model import VoxelGrid\n",
    "from voxel_slam.model import PCDPlane \n",
    "\n",
    "__all__ = ['VoxelFeatureMap']\n",
    "\n",
    "\n",
    "# TODO: remove\n",
    "def custom_gen_unique_colors(number_of_colors):\n",
    "    np.random.seed(42)\n",
    "    unique_color_set = set()\n",
    "    while len(unique_color_set) < number_of_colors:\n",
    "        unique_color_set.add(tuple(np.random.rand(1, 3)[0]))\n",
    "    return list(unique_color_set)\n",
    "\n",
    "\n",
    "class VoxelFeatureMap:\n",
    "    # unique_colors = distinctipy.get_colors(300, rng=42)\n",
    "    unique_colors = custom_gen_unique_colors(300)\n",
    "    def __init__(self, clouds, poses, voxel_size):\n",
    "        self._transformed_clouds = [copy.deepcopy(pcd).transform(pose) for pcd, pose in zip(clouds, poses)]\n",
    "        self._voxel_to_pose_points_map = self.build_voxel_map_(voxel_size=voxel_size)\n",
    "\n",
    "    @property\n",
    "    def transformed_clouds(self):\n",
    "        return copy.deepcopy(self._transformed_clouds)\n",
    "\n",
    "    @staticmethod\n",
    "    def find_cloud_bounds(clouds):\n",
    "        min_bound = np.full(3, 1e9)\n",
    "        max_bound = np.full(3, -1e9)\n",
    "        for pcd in clouds:\n",
    "            min_bound = np.minimum(min_bound, pcd.get_min_bound())\n",
    "            max_bound = np.maximum(max_bound, pcd.get_max_bound())\n",
    "        return min_bound, max_bound\n",
    "\n",
    "    def build_voxel_map_(self, voxel_size):\n",
    "        voxel_grid = VoxelGrid(*VoxelFeatureMap.find_cloud_bounds(self._transformed_clouds), voxel_size=voxel_size)\n",
    "        voxel_to_pose_points_map = {}\n",
    "\n",
    "        for pose_id, pcd in enumerate(self._transformed_clouds):\n",
    "            for point_id, point in enumerate(np.asarray(pcd.points)):\n",
    "                if not np.any(point):\n",
    "                    continue\n",
    "\n",
    "                voxel_center = voxel_grid.get_voxel_index(point)\n",
    "                if voxel_center not in voxel_to_pose_points_map:\n",
    "                    voxel_to_pose_points_map[voxel_center] = {}\n",
    "                \n",
    "                voxel_pose_points = voxel_to_pose_points_map[voxel_center].get(pose_id, PCDPlane(points=[], pcd_idx=[]))\n",
    "                voxel_pose_points.add_point(point, point_id)\n",
    "                voxel_to_pose_points_map[voxel_center].update({pose_id: voxel_pose_points})\n",
    "              \n",
    "        return voxel_to_pose_points_map\n",
    "    \n",
    "    def extract_voxel_features(self, ransac_distance_threshold, points_filter_function=lambda feature_points: True):\n",
    "        voxel_feature_map = {voxel_id: {} for voxel_id in self._voxel_to_pose_points_map.keys()}\n",
    "\n",
    "        for voxel_id, pose_to_points in self._voxel_to_pose_points_map.items():\n",
    "            for pose_id, pcd_plane in pose_to_points.items():\n",
    "                try:\n",
    "                    max_plane = pcd_plane.segment_max_plane(ransac_distance_threshold)\n",
    "                except RuntimeError:\n",
    "                    continue\n",
    "\n",
    "                if points_filter_function(np.asarray(max_plane.points)):\n",
    "                    voxel_feature_map[voxel_id][pose_id] = max_plane\n",
    "\n",
    "        return voxel_feature_map\n",
    "\n",
    "    @staticmethod\n",
    "    def filter_voxel_features(voxel_feature_map, cosine_distance_threshold=0.4, preserve_non_informative_voxels=False):\n",
    "        non_informative_voxels = []\n",
    "\n",
    "        for voxel_id, pose_to_points in voxel_feature_map.items():\n",
    "            normals = [plane.get_plane_equation()[:-1] for plane in pose_to_points.values()]\n",
    "            if len(normals) < 2:\n",
    "                if not preserve_non_informative_voxels:\n",
    "                    non_informative_voxels.append(voxel_id)\n",
    "                continue\n",
    "            \n",
    "            clustering = AgglomerativeClustering(\n",
    "                n_clusters=None,\n",
    "                distance_threshold=cosine_distance_threshold,\n",
    "                metric=\"cosine\",\n",
    "                linkage=\"single\",\n",
    "                compute_distances=True \n",
    "            ).fit(np.asarray(normals))\n",
    "\n",
    "            stable_plane_label = np.bincount(clustering.labels_).argmax()\n",
    "            outlier_plane_poses = np.asarray(list(pose_to_points.keys()))[clustering.labels_ != stable_plane_label]\n",
    "            for pose_id in outlier_plane_poses:\n",
    "                pose_to_points.pop(pose_id)\n",
    "            \n",
    "            # TODO: Unite with previous steps\n",
    "            # Add filter by D\n",
    "            planes_d = [plane.get_plane_equation()[-1] for plane in pose_to_points.values()]\n",
    "            if len(planes_d) < 2:\n",
    "                if not preserve_non_informative_voxels:\n",
    "                    non_informative_voxels.append(voxel_id)\n",
    "                continue\n",
    "\n",
    "        # Remove voxels that cover less than two poses\n",
    "        for voxel_id in non_informative_voxels:\n",
    "            voxel_feature_map.pop(voxel_id)\n",
    "    \n",
    "    def get_colored_feature_clouds(self, voxel_feature_map, color_method=\"pose\"):\n",
    "        time_init_start = time.perf_counter_ns()\n",
    "        allowed_methods = [\"pose\", \"voxel\"]\n",
    "        if color_method not in allowed_methods:\n",
    "            raise TypeError(f\"Color method has to be one of {'|'.join(allowed_methods)}\")\n",
    "        colored_clouds = self.transformed_clouds\n",
    "\n",
    "        print(\"Time (init):\", (time.perf_counter_ns() - time_init_start) / 1e9)  \n",
    "\n",
    "        color_to_voxel_center = {}\n",
    "\n",
    "        for voxel_id, (voxel_center, pose_to_points) in enumerate(voxel_feature_map.items()):\n",
    "            for pose_id, pcd_plane in pose_to_points.items():\n",
    "                cloud_colors = np.asarray(colored_clouds[pose_id].colors)\n",
    "                if color_method == \"voxel\":\n",
    "                    cloud_colors[pcd_plane.pcd_idx] = self.unique_colors[voxel_id]\n",
    "                    color_to_voxel_center[self.unique_colors[voxel_id]] = voxel_center\n",
    "                elif color_method == \"pose\":\n",
    "                    cloud_colors[pcd_plane.pcd_idx] = self.unique_colors[pose_id]\n",
    "                colored_clouds[pose_id].colors = o3d.utility.Vector3dVector(cloud_colors)\n",
    "        \n",
    "        return colored_clouds, color_to_voxel_center"
   ]
  },
  {
   "cell_type": "code",
   "execution_count": 197,
   "id": "7da9f8fc-2728-4a91-ab8e-9923466f14f8",
   "metadata": {
    "tags": []
   },
   "outputs": [],
   "source": [
    "def is_good_small(plane_points):\n",
    "    c = np.mean(plane_points, axis=0)\n",
    "    A = np.array(plane_points) - c\n",
    "    eigvals, _ = np.linalg.eig(A.T @ A)\n",
    "    eigvals.sort()\n",
    "    # print(eigvals)\n",
    "    k = 5\n",
    "    return eigvals[2] < eigvals[1] * k and plane_points.shape[0] > 50"
   ]
  },
  {
   "cell_type": "code",
   "execution_count": 180,
   "id": "189287e1-7e84-4a9f-86ad-2e7d7429bf4f",
   "metadata": {
    "tags": []
   },
   "outputs": [],
   "source": [
    "import random\n",
    "from tqdm import tqdm"
   ]
  },
  {
   "cell_type": "code",
   "execution_count": 198,
   "id": "cbf521f2-6806-4cca-b66a-6e0a601f8151",
   "metadata": {
    "tags": []
   },
   "outputs": [],
   "source": [
    "def check_planes(plane_normals): \n",
    "    matrix = [] \n",
    "    for plane in plane_normals: \n",
    "        matrix.append(plane) \n",
    "    matrix = np.asarray(matrix) \n",
    "    covarience = matrix.T @ matrix \n",
    "    eigvals, eigvects = np.linalg.eig(covarience) \n",
    "    return eigvals\n",
    "\n",
    "def get_optimized(clouds_cp, poses_cp):\n",
    "    clouds = copy.deepcopy(clouds_cp)\n",
    "    poses = copy.deepcopy(poses_cp)\n",
    "    voxel_map = VoxelFeatureMap(clouds, poses, voxel_size=2)\n",
    "    f_function = lambda points: is_good_small(np.asarray(points))\n",
    "    \n",
    "    voxel_feature_map = voxel_map.extract_voxel_features(\n",
    "        ransac_distance_threshold=0.005, \n",
    "        points_filter_function=f_function\n",
    "    )\n",
    "    \n",
    "    voxel_map.filter_voxel_features(voxel_feature_map)\n",
    "    \n",
    "    N = len(clouds)\n",
    "    non_informative_voxels = []\n",
    "    for voxel_id in voxel_feature_map:\n",
    "        if len(voxel_feature_map[voxel_id]) < N:\n",
    "            non_informative_voxels.append(voxel_id)\n",
    "\n",
    "    for voxel_id in non_informative_voxels:\n",
    "        voxel_feature_map.pop(voxel_id)\n",
    "    \n",
    "    voxel_pcd, _ = voxel_map.get_colored_feature_clouds(voxel_feature_map, color_method=\"voxel\")\n",
    "    \n",
    "    voxel_indices = list(voxel_feature_map.keys())\n",
    "    print(len(voxel_indices))\n",
    "\n",
    "    chis = []\n",
    "    poses_combo = []\n",
    "    voxel_ids = []\n",
    "    for _ in range(30):\n",
    "        voxel_map_cut = {}\n",
    "        vox_ind = random.sample(voxel_indices, int(0.7 * len(voxel_indices)))\n",
    "        planes_list = []\n",
    "        for k in vox_ind:\n",
    "            voxel_map_cut[k] = copy.deepcopy(voxel_feature_map[k])\n",
    "            planes_list.append(voxel_map_cut[k][0].get_plane_equation()[:-1])\n",
    "        \n",
    "        if min(check_planes(planes_list)) < 1e-1:\n",
    "            # print('Planes filter')\n",
    "            continue\n",
    "            \n",
    "        graph = voxel_slam.backend.FGraph(voxel_map_cut, number_of_poses=len(poses))\n",
    "        optimized_poses, converged = graph.get_optimized_poses(number_of_iterations=1000, verbose=False)\n",
    "        # print(graph.graph.chi2(), converged)\n",
    "\n",
    "        if not converged:\n",
    "            continue\n",
    "        \n",
    "        chis.append(graph.graph.chi2())\n",
    "        # print(chis[-1])\n",
    "        poses_combo.append(optimized_poses)\n",
    "        voxel_ids.append(vox_ind)\n",
    "        \n",
    "    minind = np.argmin(np.array(chis))\n",
    "    perfect_poses = poses_combo[minind]\n",
    "    print(min(chis))\n",
    "\n",
    "    voxel_map_cut = {}\n",
    "    for k in voxel_ids[minind]:\n",
    "        voxel_map_cut[k] = copy.deepcopy(voxel_feature_map[k])\n",
    "        \n",
    "    voxel_pcd, _ = voxel_map.get_colored_feature_clouds(voxel_map_cut, color_method=\"voxel\")\n",
    "    # perfect_poses = []\n",
    "    \n",
    "    return voxel_pcd, perfect_poses, voxel_map_cut"
   ]
  },
  {
   "cell_type": "code",
   "execution_count": 199,
   "id": "96f4e7a1-1986-4299-a012-45a6955dcd47",
   "metadata": {
    "tags": []
   },
   "outputs": [],
   "source": [
    "import open3d as o3d \n",
    "import numpy as np\n",
    "\n",
    "import pathlib\n",
    "\n",
    "poses_path = \"/home/hedgehog/Downloads/data/poses\"\n",
    "clouds_path = \"/home/hedgehog/Downloads/data/clouds\"\n",
    "\n",
    "clouds = []\n",
    "poses = []\n",
    "\n",
    "for pose_file in sorted(pathlib.Path(poses_path).iterdir(), key=lambda x: int(x.stem)):\n",
    "    pose_id = pose_file.stem\n",
    "    clouds.append(o3d.io.read_point_cloud(\n",
    "        clouds_path + \"/\" + pose_id + \".pcd\"\n",
    "    ))\n",
    "    poses.append(np.genfromtxt(pose_file))"
   ]
  },
  {
   "cell_type": "code",
   "execution_count": 200,
   "id": "b42d26ce-60ff-4372-938e-4225fcbeabf8",
   "metadata": {
    "tags": []
   },
   "outputs": [
    {
     "name": "stderr",
     "output_type": "stream",
     "text": [
      "  0%|                                                                                                                                                                                | 0/6 [00:00<?, ?it/s]"
     ]
    },
    {
     "name": "stdout",
     "output_type": "stream",
     "text": [
      "Time (init): 0.00120164\n",
      "19\n"
     ]
    },
    {
     "name": "stderr",
     "output_type": "stream",
     "text": [
      " 17%|████████████████████████████                                                                                                                                            | 1/6 [00:04<00:22,  4.58s/it]"
     ]
    },
    {
     "name": "stdout",
     "output_type": "stream",
     "text": [
      "0.12796160269193124\n",
      "Time (init): 0.001025133\n",
      "Time (init): 0.001036653\n",
      "19\n"
     ]
    },
    {
     "name": "stderr",
     "output_type": "stream",
     "text": [
      " 33%|████████████████████████████████████████████████████████                                                                                                                | 2/6 [00:10<00:21,  5.41s/it]"
     ]
    },
    {
     "name": "stdout",
     "output_type": "stream",
     "text": [
      "0.5982341336497132\n",
      "Time (init): 0.001017394\n",
      "Time (init): 0.001450148\n",
      "12\n"
     ]
    },
    {
     "name": "stderr",
     "output_type": "stream",
     "text": [
      " 50%|████████████████████████████████████████████████████████████████████████████████████                                                                                    | 3/6 [00:18<00:19,  6.65s/it]"
     ]
    },
    {
     "name": "stdout",
     "output_type": "stream",
     "text": [
      "0.579299750577383\n",
      "Time (init): 0.000975777\n",
      "Time (init): 0.001526375\n",
      "17\n"
     ]
    },
    {
     "name": "stderr",
     "output_type": "stream",
     "text": [
      " 67%|████████████████████████████████████████████████████████████████████████████████████████████████████████████████                                                        | 4/6 [00:29<00:16,  8.27s/it]"
     ]
    },
    {
     "name": "stdout",
     "output_type": "stream",
     "text": [
      "0.9988614663817249\n",
      "Time (init): 0.001440634\n",
      "Time (init): 0.00218101\n",
      "22\n"
     ]
    },
    {
     "name": "stderr",
     "output_type": "stream",
     "text": [
      " 83%|████████████████████████████████████████████████████████████████████████████████████████████████████████████████████████████████████████████                            | 5/6 [00:44<00:10, 10.61s/it]"
     ]
    },
    {
     "name": "stdout",
     "output_type": "stream",
     "text": [
      "1.12648076582344\n",
      "Time (init): 0.001848807\n",
      "Time (init): 0.002882895\n",
      "21\n"
     ]
    },
    {
     "name": "stderr",
     "output_type": "stream",
     "text": [
      "100%|████████████████████████████████████████████████████████████████████████████████████████████████████████████████████████████████████████████████████████████████████████| 6/6 [00:59<00:00,  9.87s/it]"
     ]
    },
    {
     "name": "stdout",
     "output_type": "stream",
     "text": [
      "4.221030264240235\n",
      "Time (init): 0.002751169\n"
     ]
    },
    {
     "name": "stderr",
     "output_type": "stream",
     "text": [
      "\n"
     ]
    }
   ],
   "source": [
    "window_size = 5\n",
    "optimized_submaps = {}\n",
    "\n",
    "transformed_clouds = voxel_slam.VoxelFeatureMap(clouds, poses, voxel_size=2).transformed_clouds\n",
    "\n",
    "for i in tqdm(range(0, len(clouds), window_size)):\n",
    "    optimized_submaps[i] = get_optimized(transformed_clouds[i:i+window_size], [np.eye(4)] * window_size)"
   ]
  },
  {
   "cell_type": "code",
   "execution_count": 203,
   "id": "45e170ed-8d0e-4f17-bc81-f006fac11cdd",
   "metadata": {
    "tags": []
   },
   "outputs": [],
   "source": [
    "aggregated_submaps = {k: voxel_slam.aggregate_map(pcd, pose) for k, (pcd, pose, _) in optimized_submaps.items()}"
   ]
  },
  {
   "cell_type": "code",
   "execution_count": 204,
   "id": "fb64e86d-91a7-4177-8b9f-a69f9683393d",
   "metadata": {
    "tags": []
   },
   "outputs": [],
   "source": [
    "for k, pcd in aggregated_submaps.items():\n",
    "    o3d.visualization.draw_geometries([pcd])"
   ]
  },
  {
   "cell_type": "code",
   "execution_count": null,
   "id": "9d95f670-1f89-4421-bcf6-71aa056a1f00",
   "metadata": {},
   "outputs": [],
   "source": []
  }
 ],
 "metadata": {
  "kernelspec": {
   "display_name": "Python 3 (ipykernel)",
   "language": "python",
   "name": "python3"
  },
  "language_info": {
   "codemirror_mode": {
    "name": "ipython",
    "version": 3
   },
   "file_extension": ".py",
   "mimetype": "text/x-python",
   "name": "python",
   "nbconvert_exporter": "python",
   "pygments_lexer": "ipython3",
   "version": "3.10.12"
  }
 },
 "nbformat": 4,
 "nbformat_minor": 5
}
