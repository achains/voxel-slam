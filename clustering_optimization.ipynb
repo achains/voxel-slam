{
 "cells": [
  {
   "cell_type": "code",
   "execution_count": 41,
   "metadata": {},
   "outputs": [],
   "source": [
    "import voxel_slam"
   ]
  },
  {
   "cell_type": "code",
   "execution_count": 42,
   "metadata": {},
   "outputs": [],
   "source": [
    "import numpy as np\n",
    "import mrob \n",
    "import open3d as o3d \n",
    "\n",
    "import pathlib\n",
    "import copy"
   ]
  },
  {
   "cell_type": "markdown",
   "metadata": {},
   "source": [
    "### I/O "
   ]
  },
  {
   "cell_type": "code",
   "execution_count": 43,
   "metadata": {},
   "outputs": [],
   "source": [
    "def read_depth_to_rgb_map(association_path):\n",
    "    depth_to_rgb_map = dict()\n",
    "    with open(association_path) as data:\n",
    "        for line in data:\n",
    "            _, color_name, _, depth_name = line.split()\n",
    "            color_name = color_name.strip('\\n').lstrip(\"color/\")\n",
    "            depth_name = depth_name.strip('\\n').lstrip(\"depth/\")\n",
    "            depth_to_rgb_map[depth_name] = color_name\n",
    "    return depth_to_rgb_map\n",
    "\n",
    "def parse_trajectories(input_path):\n",
    "    ts = dict()\n",
    "    with open(input_path) as data:\n",
    "        for line in data:\n",
    "            line_tokens = line.strip('\\n').split()\n",
    "            \n",
    "            timestamp = line_tokens[0].replace('.', '')\n",
    "            timestamp = \"0\" * (12 - len(timestamp)) + timestamp\n",
    "            \n",
    "            trajectory = np.asarray(list(map(float, line_tokens[1:])))\n",
    "            ts.update({timestamp: trajectory})\n",
    "    return ts\n",
    "\n",
    "\n",
    "def filename_to_pose(depth_filename: str, depth_to_rgb_map: str, poses: dict):\n",
    "    rgb_filename = depth_to_rgb_map[depth_filename].rstrip(\".png\")\n",
    "    return poses[\"0\" * (12 - len(rgb_filename)) + rgb_filename]\n",
    "\n",
    "\n",
    "def trajectory_to_se3(trajectory):\n",
    "    t, Q = trajectory[:3], trajectory[3:]\n",
    "    R = mrob.geometry.SO3(mrob.geometry.quat_to_so3(Q))\n",
    "    return mrob.geometry.SE3(R, t)\n",
    "\n",
    "def parse_trajectories_float(input_path, ts_multiplier=1e9):\n",
    "    ts = dict()\n",
    "    with open(input_path) as data:\n",
    "        for line in data:\n",
    "            line_tokens = line.strip('\\n').split()\n",
    "            \n",
    "            timestamp = float(line_tokens[0]) * ts_multiplier\n",
    "            \n",
    "            trajectory = np.asarray(list(map(float, line_tokens[1:])))\n",
    "            ts.update({timestamp: trajectory})\n",
    "    return ts"
   ]
  },
  {
   "cell_type": "code",
   "execution_count": 44,
   "metadata": {},
   "outputs": [],
   "source": [
    "def read_hilti_sequence(ts_to_quat, ts_to_depth_path, start_of_sequence=0, number_of_clouds=-1, center_distance_threshold=1.5):\n",
    "    poses = []\n",
    "    clouds = []\n",
    "\n",
    "    lidar_so3 = mrob.geometry.SO3(mrob.geometry.quat_to_so3(np.asarray([ 0.7071068, -0.7071068, 0, 0 ])))\n",
    "    lidar_t = np.asarray([ -0.001, -0.00855, 0.055 ])   \n",
    "    imu_to_lidar_se3 = mrob.geometry.SE3(lidar_so3, lidar_t).T()\n",
    "\n",
    "    for ts in sorted(ts_to_quat)[start_of_sequence : start_of_sequence + number_of_clouds]:\n",
    "        imu_pose = trajectory_to_se3(ts_to_quat[ts]).T()\n",
    "\n",
    "        pose = imu_pose @ imu_to_lidar_se3\n",
    "        cloud = o3d.io.read_point_cloud(str(ts_to_depth_path[ts]))\n",
    "        cloud_points = np.asarray(cloud.points)\n",
    "        f = np.where(np.linalg.norm(cloud_points, axis=1) > center_distance_threshold)[0] \n",
    "\n",
    "        cloud.points = o3d.utility.Vector3dVector(cloud_points[f])\n",
    "\n",
    "        cloud.paint_uniform_color([0.0, 0.0, 0.0])\n",
    "        \n",
    "        poses.append(pose)\n",
    "        clouds.append(cloud)\n",
    "\n",
    "    return clouds, poses"
   ]
  },
  {
   "cell_type": "markdown",
   "metadata": {},
   "source": [
    "## Clustering optimization"
   ]
  },
  {
   "cell_type": "code",
   "execution_count": 45,
   "metadata": {},
   "outputs": [],
   "source": [
    "def get_optimized_poses(clouds_cp, \n",
    "                        poses_cp, \n",
    "                        voxel_size=2, \n",
    "                        ransac_distance_threshold=0.005, \n",
    "                        filter_function=lambda points: True,\n",
    "                        enable_filter_voxels=True,\n",
    "                        filter_cosine_distance_threshold=0.2, \n",
    "                        filter_preserve_non_informative_voxels=False):\n",
    "    clouds = copy.deepcopy(clouds_cp)\n",
    "    poses = copy.deepcopy(poses_cp)\n",
    "\n",
    "    voxel_map = voxel_slam.frontend.VoxelFeatureMap(clouds, poses, voxel_size=voxel_size)\n",
    "    voxel_feature_map = voxel_map.extract_voxel_features(\n",
    "        ransac_distance_threshold=ransac_distance_threshold, \n",
    "        points_filter_function=filter_function\n",
    "    )\n",
    "    if enable_filter_voxels:\n",
    "        voxel_map.filter_voxel_features(voxel_feature_map, \n",
    "                                        cosine_distance_threshold=filter_cosine_distance_threshold,\n",
    "                                        preserve_non_informative_voxels=filter_preserve_non_informative_voxels)\n",
    "    \n",
    "    graph = voxel_slam.backend.FGraph(voxel_feature_map, number_of_poses=len(poses))\n",
    "    optimized_poses = graph.get_optimized_poses()\n",
    "    colored_pcd, color_to_voxel_id = voxel_map.get_colored_feature_clouds(voxel_feature_map, color_method=\"voxel\")\n",
    "    \n",
    "    return colored_pcd, optimized_poses"
   ]
  },
  {
   "cell_type": "code",
   "execution_count": 46,
   "metadata": {},
   "outputs": [],
   "source": [
    "clouds_path = \"/home/ach/Desktop/datasets/hilti/out2\"\n",
    "poses_path = \"/home/ach/Desktop/datasets/hilti/exp14_basement_2_imu.txt\""
   ]
  },
  {
   "cell_type": "code",
   "execution_count": 47,
   "metadata": {},
   "outputs": [],
   "source": [
    "ts_multiplier = 1 / 1e9\n",
    "ts_to_depth_path = {float(x.stem) * ts_multiplier : x for x in pathlib.Path(clouds_path).iterdir()}\n",
    "ts_to_quat = parse_trajectories_float(poses_path, ts_multiplier)"
   ]
  },
  {
   "cell_type": "code",
   "execution_count": 48,
   "metadata": {},
   "outputs": [],
   "source": [
    "clouds, poses = read_hilti_sequence(ts_to_quat, ts_to_depth_path, start_of_sequence=300, number_of_clouds=30, center_distance_threshold=3)"
   ]
  },
  {
   "cell_type": "markdown",
   "metadata": {},
   "source": [
    "#### Visualize clouds with GT poses"
   ]
  },
  {
   "cell_type": "code",
   "execution_count": 49,
   "metadata": {},
   "outputs": [],
   "source": [
    "o3d.visualization.draw_geometries([voxel_slam.aggregate_map(clouds, poses, enable_color=True)])"
   ]
  },
  {
   "cell_type": "code",
   "execution_count": 50,
   "metadata": {},
   "outputs": [],
   "source": [
    "class OptimizationConfig:\n",
    "    def __init__(self) -> None:  \n",
    "        self.window_size = 5\n",
    "        self.voxel_size = 2\n",
    "        self.ransac_distance_threshold = 0.005\n",
    "        self.filter_function = lambda points: True\n",
    "        self.enable_filter_voxels = True\n",
    "        self.filter_cosine_distance_threshold = 0.2\n",
    "        self.filter_preserve_non_informative_voxels = False"
   ]
  },
  {
   "cell_type": "markdown",
   "metadata": {},
   "source": [
    "### Clustering optimization"
   ]
  },
  {
   "cell_type": "code",
   "execution_count": 51,
   "metadata": {},
   "outputs": [],
   "source": [
    "def clustering_optimization(clouds, poses, submaps_config: OptimizationConfig, aggregated_map_config: OptimizationConfig):\n",
    "    optimized_submaps = {}\n",
    "\n",
    "    transformed_clouds = voxel_slam.VoxelFeatureMap(clouds, poses, voxel_size=submaps_config.voxel_size).transformed_clouds\n",
    " \n",
    "    print(\"== Submaps ==\")\n",
    "    for i in range(0, len(clouds), submaps_config.window_size):\n",
    "        optimized_submaps[i] = get_optimized_poses(\n",
    "            clouds_cp=transformed_clouds[i:i+submaps_config.window_size],\n",
    "            poses_cp=[np.eye(4) for _ in range(submaps_config.window_size)],\n",
    "            voxel_size=submaps_config.voxel_size,\n",
    "            ransac_distance_threshold=submaps_config.ransac_distance_threshold,\n",
    "            filter_function=submaps_config.filter_function,\n",
    "            enable_filter_voxels=submaps_config.enable_filter_voxels,\n",
    "            filter_cosine_distance_threshold=submaps_config.filter_cosine_distance_threshold, \n",
    "            filter_preserve_non_informative_voxels=submaps_config.filter_preserve_non_informative_voxels\n",
    "        )\n",
    "\n",
    "    \n",
    "    aggregated_submaps = {k: voxel_slam.aggregate_map(pcd, pose) for k, (pcd, pose) in optimized_submaps.items()}\n",
    "    for pcd in aggregated_submaps.values():\n",
    "        pcd.paint_uniform_color([0.0, 0.0, 0.0])\n",
    "\n",
    "    o3d.visualization.draw_geometries(list(aggregated_submaps.values()))\n",
    "\n",
    "    print(\"== Aggregated map ==\")\n",
    "    ahc_clouds, ahc_poses = get_optimized_poses(\n",
    "        list(aggregated_submaps.values()), \n",
    "        [np.eye(4) for _ in range(len(aggregated_submaps))],\n",
    "        voxel_size=aggregated_map_config.voxel_size,\n",
    "        ransac_distance_threshold=aggregated_map_config.ransac_distance_threshold,\n",
    "        filter_function=aggregated_map_config.filter_function,\n",
    "        enable_filter_voxels=aggregated_map_config.enable_filter_voxels,\n",
    "        filter_cosine_distance_threshold=aggregated_map_config.filter_cosine_distance_threshold,\n",
    "        filter_preserve_non_informative_voxels=aggregated_map_config.filter_preserve_non_informative_voxels\n",
    "    )\n",
    "\n",
    "    return ahc_clouds, ahc_poses"
   ]
  },
  {
   "cell_type": "code",
   "execution_count": 52,
   "metadata": {},
   "outputs": [],
   "source": [
    "submaps_config = OptimizationConfig()\n",
    "aggregated_config = OptimizationConfig()"
   ]
  },
  {
   "cell_type": "code",
   "execution_count": 53,
   "metadata": {},
   "outputs": [],
   "source": [
    "submaps_config.enable_filter_voxels = False "
   ]
  },
  {
   "cell_type": "code",
   "execution_count": 54,
   "metadata": {},
   "outputs": [
    {
     "name": "stdout",
     "output_type": "stream",
     "text": [
      "== Submaps ==\n",
      "FGraph initial error: 102.73339705396097\n",
      "Chi2: 102.48465807212567\n",
      "Time (init): 0.000747999\n",
      "FGraph initial error: 365.2702687289332\n",
      "Chi2: 393.16390114961405\n",
      "Time (init): 0.000729818\n",
      "FGraph initial error: 1370.318877288226\n",
      "Chi2: 617.1690173597068\n",
      "Time (init): 0.000815122\n",
      "FGraph initial error: 2131.794878152073\n",
      "Chi2: 631.8246594748483\n",
      "Time (init): 0.000988227\n",
      "FGraph initial error: 2873.577423721562\n",
      "Chi2: 439.6562142583453\n",
      "Time (init): 0.001383671\n",
      "FGraph initial error: 1935.2557836754752\n",
      "Chi2: 3064.2347256569747\n",
      "Time (init): 0.001812062\n",
      "== Aggregated map ==\n",
      "FGraph initial error: 2018.7920950898724\n",
      "Chi2: 642.9019042449764\n",
      "Time (init): 0.014614983\n"
     ]
    }
   ],
   "source": [
    "aggregated_clouds, aggregated_poses = clustering_optimization(clouds, poses, submaps_config, aggregated_config)"
   ]
  },
  {
   "cell_type": "code",
   "execution_count": 55,
   "metadata": {},
   "outputs": [],
   "source": [
    "o3d.visualization.draw_geometries([voxel_slam.aggregate_map(aggregated_clouds, aggregated_poses)])"
   ]
  },
  {
   "cell_type": "code",
   "execution_count": null,
   "metadata": {},
   "outputs": [],
   "source": []
  }
 ],
 "metadata": {
  "kernelspec": {
   "display_name": "venv",
   "language": "python",
   "name": "python3"
  },
  "language_info": {
   "codemirror_mode": {
    "name": "ipython",
    "version": 3
   },
   "file_extension": ".py",
   "mimetype": "text/x-python",
   "name": "python",
   "nbconvert_exporter": "python",
   "pygments_lexer": "ipython3",
   "version": "3.10.12"
  },
  "orig_nbformat": 4
 },
 "nbformat": 4,
 "nbformat_minor": 2
}
